{
 "cells": [
  {
   "cell_type": "code",
   "execution_count": 3,
   "metadata": {
    "colab": {},
    "colab_type": "code",
    "executionInfo": {
     "elapsed": 1382,
     "status": "ok",
     "timestamp": 1598093416715,
     "user": {
      "displayName": "Qi Qi",
      "photoUrl": "",
      "userId": "02508878446807990547"
     },
     "user_tz": -60
    },
    "id": "tpVzI1TriC5u"
   },
   "outputs": [],
   "source": [
    "import pandas as pd\n",
    "import numpy as np\n",
    "import h5py\n",
    "import os\n",
    "import torch"
   ]
  },
  {
   "cell_type": "code",
   "execution_count": null,
   "metadata": {},
   "outputs": [],
   "source": [
    "city='BERLIN'"
   ]
  },
  {
   "cell_type": "code",
   "execution_count": 4,
   "metadata": {
    "colab": {},
    "colab_type": "code",
    "executionInfo": {
     "elapsed": 1815,
     "status": "ok",
     "timestamp": 1598093417156,
     "user": {
      "displayName": "Qi Qi",
      "photoUrl": "",
      "userId": "02508878446807990547"
     },
     "user_tz": -60
    },
    "id": "uVoC3ufmiJ9P"
   },
   "outputs": [],
   "source": [
    "data_dir='../data/'\n",
    "raw_dir = os.path.join(data_dir, 'raw')\n",
    "proc_dir = os.path.join(data_dir, 'processed')\n",
    "rows=495\n",
    "cols=436"
   ]
  },
  {
   "cell_type": "code",
   "execution_count": 5,
   "metadata": {
    "colab": {},
    "colab_type": "code",
    "executionInfo": {
     "elapsed": 1811,
     "status": "ok",
     "timestamp": 1598093417158,
     "user": {
      "displayName": "Qi Qi",
      "photoUrl": "",
      "userId": "02508878446807990547"
     },
     "user_tz": -60
    },
    "id": "sfdhCm86i8Ux"
   },
   "outputs": [],
   "source": [
    "raw_trn=os.path.join(raw_dir, city, 'training')\n",
    "raw_val=os.path.join(raw_dir, city, 'validation')\n",
    "raw_tst=os.path.join(raw_dir, city, 'testing')"
   ]
  },
  {
   "cell_type": "code",
   "execution_count": 6,
   "metadata": {
    "colab": {},
    "colab_type": "code",
    "executionInfo": {
     "elapsed": 1808,
     "status": "ok",
     "timestamp": 1598093417160,
     "user": {
      "displayName": "Qi Qi",
      "photoUrl": "",
      "userId": "02508878446807990547"
     },
     "user_tz": -60
    },
    "id": "PJr_GUp6iT1B"
   },
   "outputs": [],
   "source": [
    "node_file = os.path.join(proc_dir, city, f'{city}_nodes_5.npy')\n",
    "edge_file = os.path.join(proc_dir, city, f'{city}_edges_5.npy')\n",
    "nodes = np.load(node_file)\n",
    "edges = np.load(edge_file)"
   ]
  },
  {
   "cell_type": "code",
   "execution_count": 11,
   "metadata": {
    "colab": {},
    "colab_type": "code",
    "executionInfo": {
     "elapsed": 330,
     "status": "ok",
     "timestamp": 1598097124623,
     "user": {
      "displayName": "Qi Qi",
      "photoUrl": "",
      "userId": "02508878446807990547"
     },
     "user_tz": -60
    },
    "id": "-X0mP4ppi_FJ"
   },
   "outputs": [
    {
     "name": "stdout",
     "output_type": "stream",
     "text": [
      "validation\n",
      "testing\n"
     ]
    }
   ],
   "source": [
    "for mode in ['training','validation', 'testing']:\n",
    "    print(mode)\n",
    "    hf_file = os.path.join(proc_dir, city, f'{city}_{mode}_5.h5')\n",
    "    raw=os.path.join(raw_dir, city,mode)\n",
    "    #hf_file = os.path.join(proc_dir, f'{city}_{mode}_gzip9.h5')\n",
    "    hf = h5py.File(hf_file, 'w')\n",
    "    for f in os.listdir(raw):\n",
    "      fr = h5py.File(os.path.join(raw, f), 'r')\n",
    "      data = fr[list(fr.keys())[0]]\n",
    "      if mode == 'testing':\n",
    "        graph_data = np.array(data)[:,:, nodes[:,0], nodes[:,1], :]\n",
    "      else:\n",
    "        graph_data = np.array(data)[:, nodes[:,0], nodes[:,1], :]\n",
    "      fr.close()\n",
    "      #hf.create_dataset(f, data=graph_data, compression=\"gzip\", compression_opts=9)\n",
    "      hf.create_dataset(f, data=graph_data, compression=\"lzf\")\n",
    "    hf.close()"
   ]
  }
 ],
 "metadata": {
  "colab": {
   "authorship_tag": "ABX9TyOiq2lSsXHnFTBZLE+2YIRO",
   "name": "Re_slice_data.ipynb",
   "provenance": []
  },
  "kernelspec": {
   "display_name": "Python 3",
   "language": "python",
   "name": "python3"
  },
  "language_info": {
   "codemirror_mode": {
    "name": "ipython",
    "version": 3
   },
   "file_extension": ".py",
   "mimetype": "text/x-python",
   "name": "python",
   "nbconvert_exporter": "python",
   "pygments_lexer": "ipython3",
   "version": "3.8.3"
  }
 },
 "nbformat": 4,
 "nbformat_minor": 1
}
