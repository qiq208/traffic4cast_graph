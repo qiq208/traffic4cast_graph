{
 "cells": [
  {
   "cell_type": "code",
   "execution_count": 1,
   "metadata": {
    "colab": {
     "base_uri": "https://localhost:8080/",
     "height": 122
    },
    "colab_type": "code",
    "executionInfo": {
     "elapsed": 20278,
     "status": "ok",
     "timestamp": 1598089075742,
     "user": {
      "displayName": "Qi Qi",
      "photoUrl": "",
      "userId": "02508878446807990547"
     },
     "user_tz": -60
    },
    "id": "hzQbeoqmhM6U",
    "outputId": "917a06aa-af8b-4490-dbba-7c009dcb493a"
   },
   "outputs": [
    {
     "name": "stdout",
     "output_type": "stream",
     "text": [
      "Go to this URL in a browser: https://accounts.google.com/o/oauth2/auth?client_id=947318989803-6bn6qk8qdgf4n4g3pfee6491hc0brc4i.apps.googleusercontent.com&redirect_uri=urn%3aietf%3awg%3aoauth%3a2.0%3aoob&scope=email%20https%3a%2f%2fwww.googleapis.com%2fauth%2fdocs.test%20https%3a%2f%2fwww.googleapis.com%2fauth%2fdrive%20https%3a%2f%2fwww.googleapis.com%2fauth%2fdrive.photos.readonly%20https%3a%2f%2fwww.googleapis.com%2fauth%2fpeopleapi.readonly&response_type=code\n",
      "\n",
      "Enter your authorization code:\n",
      "··········\n",
      "Mounted at /content/drive\n"
     ]
    }
   ],
   "source": [
    "from google.colab import drive\n",
    "drive.mount('/content/drive')"
   ]
  },
  {
   "cell_type": "code",
   "execution_count": 2,
   "metadata": {
    "colab": {},
    "colab_type": "code",
    "executionInfo": {
     "elapsed": 100622,
     "status": "ok",
     "timestamp": 1598089181153,
     "user": {
      "displayName": "Qi Qi",
      "photoUrl": "",
      "userId": "02508878446807990547"
     },
     "user_tz": -60
    },
    "id": "wcaxrsnrh8yF"
   },
   "outputs": [],
   "source": [
    "!unzip -qq '/content/drive/My Drive/t4c/berlin.zip'"
   ]
  },
  {
   "cell_type": "code",
   "execution_count": 27,
   "metadata": {
    "colab": {},
    "colab_type": "code",
    "executionInfo": {
     "elapsed": 1382,
     "status": "ok",
     "timestamp": 1598093416715,
     "user": {
      "displayName": "Qi Qi",
      "photoUrl": "",
      "userId": "02508878446807990547"
     },
     "user_tz": -60
    },
    "id": "tpVzI1TriC5u"
   },
   "outputs": [],
   "source": [
    "import pandas as pd\n",
    "import numpy as np\n",
    "import h5py\n",
    "import os\n",
    "import torch"
   ]
  },
  {
   "cell_type": "code",
   "execution_count": 2,
   "metadata": {},
   "outputs": [
    {
     "name": "stdout",
     "output_type": "stream",
     "text": [
      "Dead_Pixel_Mask.ipynb\r\n",
      "GNN_Data_Playground.ipynb\r\n",
      "GNN_Pyg_Playground.ipynb\r\n",
      "GNN_geometric_dataset.ipynb\r\n",
      "GNN_train.ipynb\r\n",
      "Mask_checking.ipynb\r\n",
      "New Graphs.ipynb\r\n",
      "Norm Model with Static and Time Features - Berlin.ipynb\r\n",
      "Normalisation.ipynb\r\n",
      "Re_slice_data.ipynb\r\n",
      "berlin-2.ipynb\r\n",
      "berlin.ipynb\r\n",
      "data_gzip.h5\r\n",
      "ensemble.ipynb\r\n",
      "small_graph.ipynb\r\n",
      "submission.ipynb\r\n"
     ]
    }
   ],
   "source": [
    "!ls"
   ]
  },
  {
   "cell_type": "code",
   "execution_count": 126,
   "metadata": {
    "colab": {},
    "colab_type": "code",
    "executionInfo": {
     "elapsed": 1815,
     "status": "ok",
     "timestamp": 1598093417156,
     "user": {
      "displayName": "Qi Qi",
      "photoUrl": "",
      "userId": "02508878446807990547"
     },
     "user_tz": -60
    },
    "id": "uVoC3ufmiJ9P"
   },
   "outputs": [],
   "source": [
    "data_dir='../data/'\n",
    "raw_dir = os.path.join(data_dir, 'raw')\n",
    "proc_dir = os.path.join(data_dir, 'processed')\n",
    "city='MOSCOW'\n",
    "rows=495\n",
    "cols=436"
   ]
  },
  {
   "cell_type": "code",
   "execution_count": 127,
   "metadata": {
    "colab": {},
    "colab_type": "code",
    "executionInfo": {
     "elapsed": 1811,
     "status": "ok",
     "timestamp": 1598093417158,
     "user": {
      "displayName": "Qi Qi",
      "photoUrl": "",
      "userId": "02508878446807990547"
     },
     "user_tz": -60
    },
    "id": "sfdhCm86i8Ux"
   },
   "outputs": [],
   "source": [
    "raw_trn=os.path.join(raw_dir, city, 'training')\n",
    "raw_val=os.path.join(raw_dir, city, 'validation')\n",
    "raw_tst=os.path.join(raw_dir, city, 'testing')"
   ]
  },
  {
   "cell_type": "code",
   "execution_count": 128,
   "metadata": {
    "colab": {},
    "colab_type": "code",
    "executionInfo": {
     "elapsed": 1808,
     "status": "ok",
     "timestamp": 1598093417160,
     "user": {
      "displayName": "Qi Qi",
      "photoUrl": "",
      "userId": "02508878446807990547"
     },
     "user_tz": -60
    },
    "id": "PJr_GUp6iT1B"
   },
   "outputs": [],
   "source": [
    "node_file = os.path.join(proc_dir, f'{city}_nodes_5.npy')\n",
    "edge_file = os.path.join(proc_dir, f'{city}_edges_5.npy')\n",
    "nodes = np.load(node_file)\n",
    "edges = np.load(edge_file)"
   ]
  },
  {
   "cell_type": "code",
   "execution_count": 133,
   "metadata": {},
   "outputs": [
    {
     "data": {
      "text/plain": [
       "'../data/processed/MOSCOW_nodes_5.npy'"
      ]
     },
     "execution_count": 133,
     "metadata": {},
     "output_type": "execute_result"
    }
   ],
   "source": [
    "node_file"
   ]
  },
  {
   "cell_type": "code",
   "execution_count": 129,
   "metadata": {},
   "outputs": [
    {
     "data": {
      "text/plain": [
       "163946"
      ]
     },
     "execution_count": 129,
     "metadata": {},
     "output_type": "execute_result"
    }
   ],
   "source": [
    "len(nodes)"
   ]
  },
  {
   "cell_type": "code",
   "execution_count": 130,
   "metadata": {},
   "outputs": [],
   "source": [
    "mask = torch.zeros([495,436]).byte()"
   ]
  },
  {
   "cell_type": "code",
   "execution_count": 134,
   "metadata": {},
   "outputs": [
    {
     "data": {
      "text/plain": [
       "torch.Size([495, 436])"
      ]
     },
     "execution_count": 134,
     "metadata": {},
     "output_type": "execute_result"
    }
   ],
   "source": [
    "mask.shape"
   ]
  },
  {
   "cell_type": "code",
   "execution_count": 131,
   "metadata": {},
   "outputs": [],
   "source": [
    "mask[nodes[:,0], nodes[:,1]]=1"
   ]
  },
  {
   "cell_type": "code",
   "execution_count": 132,
   "metadata": {},
   "outputs": [],
   "source": [
    "torch.save(mask, f'{city}_Mask_5.pt')"
   ]
  },
  {
   "cell_type": "code",
   "execution_count": 62,
   "metadata": {
    "colab": {
     "base_uri": "https://localhost:8080/",
     "height": 34
    },
    "colab_type": "code",
    "executionInfo": {
     "elapsed": 1801,
     "status": "ok",
     "timestamp": 1598093417161,
     "user": {
      "displayName": "Qi Qi",
      "photoUrl": "",
      "userId": "02508878446807990547"
     },
     "user_tz": -60
    },
    "id": "mVIiyuKkjhw5",
    "outputId": "fd85ac71-c932-4095-cd3c-01d6ad5e5724"
   },
   "outputs": [],
   "source": [
    "import plotly.express as px"
   ]
  },
  {
   "cell_type": "code",
   "execution_count": 63,
   "metadata": {},
   "outputs": [
    {
     "ename": "ValueError",
     "evalue": "px.imshow only accepts 2D single-channel, RGB or RGBA images. An image of shape () was provided",
     "output_type": "error",
     "traceback": [
      "\u001b[0;31m---------------------------------------------------------------------------\u001b[0m",
      "\u001b[0;31mValueError\u001b[0m                                Traceback (most recent call last)",
      "\u001b[0;32m<ipython-input-63-42a5ae0d93bf>\u001b[0m in \u001b[0;36m<module>\u001b[0;34m\u001b[0m\n\u001b[0;32m----> 1\u001b[0;31m \u001b[0mpx\u001b[0m\u001b[0;34m.\u001b[0m\u001b[0mimshow\u001b[0m\u001b[0;34m(\u001b[0m\u001b[0mnode_file\u001b[0m\u001b[0;34m)\u001b[0m\u001b[0;34m\u001b[0m\u001b[0;34m\u001b[0m\u001b[0m\n\u001b[0m",
      "\u001b[0;32m~/miniconda3/lib/python3.7/site-packages/plotly/express/_imshow.py\u001b[0m in \u001b[0;36mimshow\u001b[0;34m(img, zmin, zmax, origin, color_continuous_scale, color_continuous_midpoint, range_color, title, template, width, height)\u001b[0m\n\u001b[1;32m    182\u001b[0m         raise ValueError(\n\u001b[1;32m    183\u001b[0m             \u001b[0;34m\"px.imshow only accepts 2D single-channel, RGB or RGBA images. \"\u001b[0m\u001b[0;34m\u001b[0m\u001b[0;34m\u001b[0m\u001b[0m\n\u001b[0;32m--> 184\u001b[0;31m             \u001b[0;34m\"An image of shape %s was provided\"\u001b[0m \u001b[0;34m%\u001b[0m \u001b[0mstr\u001b[0m\u001b[0;34m(\u001b[0m\u001b[0mimg\u001b[0m\u001b[0;34m.\u001b[0m\u001b[0mshape\u001b[0m\u001b[0;34m)\u001b[0m\u001b[0;34m\u001b[0m\u001b[0;34m\u001b[0m\u001b[0m\n\u001b[0m\u001b[1;32m    185\u001b[0m         )\n\u001b[1;32m    186\u001b[0m \u001b[0;34m\u001b[0m\u001b[0m\n",
      "\u001b[0;31mValueError\u001b[0m: px.imshow only accepts 2D single-channel, RGB or RGBA images. An image of shape () was provided"
     ]
    }
   ],
   "source": [
    "px.imshow(node_file)"
   ]
  },
  {
   "cell_type": "code",
   "execution_count": 103,
   "metadata": {
    "colab": {},
    "colab_type": "code",
    "executionInfo": {
     "elapsed": 705,
     "status": "ok",
     "timestamp": 1598093751288,
     "user": {
      "displayName": "Qi Qi",
      "photoUrl": "",
      "userId": "02508878446807990547"
     },
     "user_tz": -60
    },
    "id": "ki0tCQbjjdKu"
   },
   "outputs": [],
   "source": [
    "mode = 'testing'"
   ]
  },
  {
   "cell_type": "code",
   "execution_count": 104,
   "metadata": {
    "colab": {
     "base_uri": "https://localhost:8080/",
     "height": 164
    },
    "colab_type": "code",
    "executionInfo": {
     "elapsed": 1782,
     "status": "error",
     "timestamp": 1598093417164,
     "user": {
      "displayName": "Qi Qi",
      "photoUrl": "",
      "userId": "02508878446807990547"
     },
     "user_tz": -60
    },
    "id": "qTPx9w_4wh75",
    "outputId": "0d7b05f7-ceb9-4c9e-c11f-4bfddd0d99b9"
   },
   "outputs": [],
   "source": [
    "hf_file = os.path.join(proc_dir, f'{city}_{mode}_5.h5')"
   ]
  },
  {
   "cell_type": "code",
   "execution_count": 105,
   "metadata": {},
   "outputs": [
    {
     "data": {
      "text/plain": [
       "'../data/processed/ISTANBUL_testing_5.h5'"
      ]
     },
     "execution_count": 105,
     "metadata": {},
     "output_type": "execute_result"
    }
   ],
   "source": [
    "hf_file"
   ]
  },
  {
   "cell_type": "code",
   "execution_count": 106,
   "metadata": {
    "colab": {},
    "colab_type": "code",
    "executionInfo": {
     "elapsed": 919,
     "status": "ok",
     "timestamp": 1598093753714,
     "user": {
      "displayName": "Qi Qi",
      "photoUrl": "",
      "userId": "02508878446807990547"
     },
     "user_tz": -60
    },
    "id": "tP-VnUz4jjAX"
   },
   "outputs": [],
   "source": [
    "raw=os.path.join(raw_dir, city,mode)"
   ]
  },
  {
   "cell_type": "code",
   "execution_count": 107,
   "metadata": {
    "colab": {},
    "colab_type": "code",
    "executionInfo": {
     "elapsed": 330,
     "status": "ok",
     "timestamp": 1598097124623,
     "user": {
      "displayName": "Qi Qi",
      "photoUrl": "",
      "userId": "02508878446807990547"
     },
     "user_tz": -60
    },
    "id": "-X0mP4ppi_FJ"
   },
   "outputs": [],
   "source": [
    "#hf_file = os.path.join(proc_dir, f'{city}_{mode}_gzip9.h5')\n",
    "hf = h5py.File(hf_file, 'w')\n",
    "for f in os.listdir(raw):\n",
    "  fr = h5py.File(os.path.join(raw, f), 'r')\n",
    "  data = fr[list(fr.keys())[0]]\n",
    "  if mode == 'testing':\n",
    "    graph_data = np.array(data)[:,:, nodes[:,0], nodes[:,1], :]\n",
    "  else:\n",
    "    graph_data = np.array(data)[:, nodes[:,0], nodes[:,1], :]\n",
    "  fr.close()\n",
    "  #hf.create_dataset(f, data=graph_data, compression=\"gzip\", compression_opts=9)\n",
    "  hf.create_dataset(f, data=graph_data, compression=\"lzf\")\n",
    "hf.close()"
   ]
  },
  {
   "cell_type": "code",
   "execution_count": 19,
   "metadata": {
    "colab": {},
    "colab_type": "code",
    "executionInfo": {
     "elapsed": 830,
     "status": "ok",
     "timestamp": 1598093724083,
     "user": {
      "displayName": "Qi Qi",
      "photoUrl": "",
      "userId": "02508878446807990547"
     },
     "user_tz": -60
    },
    "id": "9Hu9xIrKig7j"
   },
   "outputs": [],
   "source": [
    "fr = h5py.File(f'/content/drive/My Drive/t4c/{city}_{mode}.h5', 'r')"
   ]
  },
  {
   "cell_type": "code",
   "execution_count": 10,
   "metadata": {},
   "outputs": [
    {
     "name": "stdout",
     "output_type": "stream",
     "text": [
      "a\n"
     ]
    }
   ],
   "source": [
    "print('a')"
   ]
  },
  {
   "cell_type": "code",
   "execution_count": null,
   "metadata": {
    "colab": {
     "base_uri": "https://localhost:8080/",
     "height": 34
    },
    "colab_type": "code",
    "executionInfo": {
     "elapsed": 917,
     "status": "ok",
     "timestamp": 1598093735893,
     "user": {
      "displayName": "Qi Qi",
      "photoUrl": "",
      "userId": "02508878446807990547"
     },
     "user_tz": -60
    },
    "id": "Ps6Y9Y8nyQrr",
    "outputId": "bc51ee5a-a479-4b36-cdf5-d9f588f6d2c8"
   },
   "outputs": [],
   "source": [
    "len(fr)"
   ]
  },
  {
   "cell_type": "code",
   "execution_count": 90,
   "metadata": {
    "colab": {},
    "colab_type": "code",
    "executionInfo": {
     "elapsed": 935,
     "status": "ok",
     "timestamp": 1598093897602,
     "user": {
      "displayName": "Qi Qi",
      "photoUrl": "",
      "userId": "02508878446807990547"
     },
     "user_tz": -60
    },
    "id": "OhMihjmni0Za"
   },
   "outputs": [],
   "source": [
    "hf.close()"
   ]
  },
  {
   "cell_type": "code",
   "execution_count": 20,
   "metadata": {
    "colab": {
     "base_uri": "https://localhost:8080/",
     "height": 54
    },
    "colab_type": "code",
    "executionInfo": {
     "elapsed": 695,
     "status": "ok",
     "timestamp": 1598093727818,
     "user": {
      "displayName": "Qi Qi",
      "photoUrl": "",
      "userId": "02508878446807990547"
     },
     "user_tz": -60
    },
    "id": "GqV0Ju3ji3IU",
    "outputId": "00e979fd-bfec-4417-9ef0-17597f37382b"
   },
   "outputs": [
    {
     "data": {
      "text/plain": [
       "<KeysViewHDF5 ['2019-07-01_berlin_9ch.h5', '2019-07-11_berlin_9ch.h5', '2019-07-21_berlin_9ch.h5', '2019-07-31_berlin_9ch.h5', '2019-08-10_berlin_9ch.h5', '2019-08-20_berlin_9ch.h5', '2019-08-30_berlin_9ch.h5', '2019-09-09_berlin_9ch.h5', '2019-09-19_berlin_9ch.h5', '2019-09-29_berlin_9ch.h5', '2019-10-09_berlin_9ch.h5', '2019-10-19_berlin_9ch.h5', '2019-10-29_berlin_9ch.h5', '2019-11-08_berlin_9ch.h5', '2019-11-18_berlin_9ch.h5', '2019-11-28_berlin_9ch.h5', '2019-12-08_berlin_9ch.h5', '2019-12-18_berlin_9ch.h5']>"
      ]
     },
     "execution_count": 20,
     "metadata": {
      "tags": []
     },
     "output_type": "execute_result"
    }
   ],
   "source": [
    "fr.keys()"
   ]
  },
  {
   "cell_type": "code",
   "execution_count": 48,
   "metadata": {
    "colab": {
     "base_uri": "https://localhost:8080/",
     "height": 34
    },
    "colab_type": "code",
    "executionInfo": {
     "elapsed": 1231,
     "status": "ok",
     "timestamp": 1598092936254,
     "user": {
      "displayName": "Qi Qi",
      "photoUrl": "",
      "userId": "02508878446807990547"
     },
     "user_tz": -60
    },
    "id": "nuhq-uBPmJ1L",
    "outputId": "ee2cb6dc-44fd-4c2d-b91c-7298f4e41ba2"
   },
   "outputs": [
    {
     "data": {
      "text/plain": [
       "(27, 176623, 9)"
      ]
     },
     "execution_count": 48,
     "metadata": {
      "tags": []
     },
     "output_type": "execute_result"
    }
   ],
   "source": [
    "fr[list(fr.keys())[180]][23:50,:,:].shape"
   ]
  },
  {
   "cell_type": "code",
   "execution_count": 49,
   "metadata": {
    "colab": {},
    "colab_type": "code",
    "executionInfo": {
     "elapsed": 738,
     "status": "ok",
     "timestamp": 1598093213921,
     "user": {
      "displayName": "Qi Qi",
      "photoUrl": "",
      "userId": "02508878446807990547"
     },
     "user_tz": -60
    },
    "id": "DM3rcp99wr1d"
   },
   "outputs": [],
   "source": [
    "a =np.zeros(10)"
   ]
  },
  {
   "cell_type": "code",
   "execution_count": 26,
   "metadata": {
    "colab": {},
    "colab_type": "code",
    "executionInfo": {
     "elapsed": 928,
     "status": "ok",
     "timestamp": 1598093801232,
     "user": {
      "displayName": "Qi Qi",
      "photoUrl": "",
      "userId": "02508878446807990547"
     },
     "user_tz": -60
    },
    "id": "muOtmJ12x0P7"
   },
   "outputs": [],
   "source": [
    "fr = h5py.File(os.path.join(raw, os.listdir(raw)[0]), 'r')"
   ]
  },
  {
   "cell_type": "code",
   "execution_count": 27,
   "metadata": {
    "colab": {
     "base_uri": "https://localhost:8080/",
     "height": 34
    },
    "colab_type": "code",
    "executionInfo": {
     "elapsed": 774,
     "status": "ok",
     "timestamp": 1598093822423,
     "user": {
      "displayName": "Qi Qi",
      "photoUrl": "",
      "userId": "02508878446807990547"
     },
     "user_tz": -60
    },
    "id": "yTWUWohpxz29",
    "outputId": "b6dc8a11-7c9f-48ee-e5d8-c712d58d18dc"
   },
   "outputs": [
    {
     "data": {
      "text/plain": [
       "(2, 12, 495, 436, 9)"
      ]
     },
     "execution_count": 27,
     "metadata": {
      "tags": []
     },
     "output_type": "execute_result"
    }
   ],
   "source": [
    "fr[list(fr.keys())[0]].shape"
   ]
  },
  {
   "cell_type": "code",
   "execution_count": null,
   "metadata": {},
   "outputs": [],
   "source": []
  },
  {
   "cell_type": "code",
   "execution_count": 48,
   "metadata": {
    "colab": {},
    "colab_type": "code",
    "id": "T8Gh6dzS0IZe"
   },
   "outputs": [],
   "source": [
    "train= np.load('../ivan_train.npy')"
   ]
  },
  {
   "cell_type": "code",
   "execution_count": 55,
   "metadata": {},
   "outputs": [],
   "source": [
    "np.save('ivan_train_mid.npy', train[(train[:,1]>=108)&(train[:,1]<=228)])"
   ]
  },
  {
   "cell_type": "code",
   "execution_count": 56,
   "metadata": {},
   "outputs": [],
   "source": [
    "val= np.load('../ivan_val.npy')"
   ]
  },
  {
   "cell_type": "code",
   "execution_count": 57,
   "metadata": {},
   "outputs": [],
   "source": [
    "np.save('ivan_val_mid.npy', val[(val[:,1]>=108)&(val[:,1]<=228)])"
   ]
  },
  {
   "cell_type": "code",
   "execution_count": null,
   "metadata": {},
   "outputs": [],
   "source": []
  }
 ],
 "metadata": {
  "colab": {
   "authorship_tag": "ABX9TyOiq2lSsXHnFTBZLE+2YIRO",
   "name": "Re_slice_data.ipynb",
   "provenance": []
  },
  "kernelspec": {
   "display_name": "Python 3",
   "language": "python",
   "name": "python3"
  },
  "language_info": {
   "codemirror_mode": {
    "name": "ipython",
    "version": 3
   },
   "file_extension": ".py",
   "mimetype": "text/x-python",
   "name": "python",
   "nbconvert_exporter": "python",
   "pygments_lexer": "ipython3",
   "version": "3.7.6"
  }
 },
 "nbformat": 4,
 "nbformat_minor": 1
}
