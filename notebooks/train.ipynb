{
 "cells": [
  {
   "cell_type": "code",
   "execution_count": 1,
   "metadata": {
    "id": "_JfmLir3TtcB"
   },
   "outputs": [],
   "source": [
    "import os\n",
    "import sys\n",
    "module_path = os.path.abspath(os.path.join('..'))\n",
    "if module_path not in sys.path:\n",
    "  sys.path.append(module_path)"
   ]
  },
  {
   "cell_type": "code",
   "execution_count": 2,
   "metadata": {
    "id": "w9VDXHk1TvkU"
   },
   "outputs": [],
   "source": [
    "from pathlib import Path\n",
    "from src.gnn_dataset import CityGraphDataset\n",
    "import time\n",
    "import numpy as np\n",
    "from torch_geometric.data import Dataset, Data, DataLoader"
   ]
  },
  {
   "cell_type": "code",
   "execution_count": null,
   "metadata": {},
   "outputs": [],
   "source": []
  },
  {
   "cell_type": "code",
   "execution_count": 3,
   "metadata": {
    "id": "ZvO_BTELdsO9"
   },
   "outputs": [],
   "source": [
    "import json\n",
    "from tqdm.notebook import tqdm\n",
    "from torch_geometric.data import Batch\n",
    "\n",
    "def create_submission(base_dir, city, output_folder, dataset, pretrained_model):\n",
    "    device = torch.device('cuda' if torch.cuda.is_available() else 'cpu')\n",
    "    pretrained_model.to(device)\n",
    "    pretrained_model.freeze()\n",
    "    pretrained_model.eval()\n",
    "    if base_dir==None:\n",
    "        input_path= city\n",
    "    else:\n",
    "        input_path= base_dir+'/'+city\n",
    "    output_path=output_folder + '/' + city      \n",
    "\n",
    "    if not os.path.exists(output_path):\n",
    "        os.makedirs(output_path)\n",
    "\n",
    "    test_slots = get_test_slots(input_path)\n",
    "\n",
    "    for date, frame in tqdm(test_slots.items()):\n",
    "        data_list = []\n",
    "        with h5py.File(f'{input_path}/{city}_testing_5.h5', 'r') as h5_file:\n",
    "            all_data = h5_file[f'{date}_test.h5']\n",
    "\n",
    "            for i in range(len(frame)):\n",
    "                x=all_data[i]\n",
    "                slice_id=frame[i]+12\n",
    "                #print(f'slice_id: {slice_id}')\n",
    "                x = dataset.get_training_data(x, dataset.city_static, 12, slice_id)\n",
    "                data = Data(x=x, edge_index = dataset.edges)\n",
    "                out = pretrained_model(data.to(device))\n",
    "                #print(out.shape)\n",
    "                zeros_image = torch.zeros([1, 12, 495, 436, 8], dtype=torch.float)\n",
    "                out = dataset.convert_graph_minibatch_y_to_image(out.to('cpu'), zeros_image) \n",
    "                out = out[:,dataset.forward_steps-1, :,:, :]\n",
    "                out = out.round()\n",
    "                out = torch.clamp(out, min=0, max=255)\n",
    "                out = out.byte()\n",
    "                if i==0:\n",
    "                    sub=out\n",
    "                else:\n",
    "                    sub=torch.cat((sub, out),0)\n",
    "\n",
    "        with h5py.File(f'{output_path}/{date}_test.h5', 'w') as h5_file:\n",
    "            h5_file.create_dataset('array', data=sub, compression=\"gzip\")\n",
    "\n",
    "def get_test_slots(file_dir):\n",
    "    with open(f'{file_dir}/test_slots.json', 'r') as json_file:\n",
    "        test_slots = json.load(json_file)\n",
    "        test_slots = {k:v for each in test_slots for k,v in each.items()}\n",
    "    return test_slots"
   ]
  },
  {
   "cell_type": "code",
   "execution_count": 4,
   "metadata": {
    "id": "E01ayO6h3_9Y"
   },
   "outputs": [
    {
     "name": "stdout",
     "output_type": "stream",
     "text": [
      "create_graph_dataset.ipynb train.ipynb\r\n"
     ]
    }
   ],
   "source": [
    "!ls"
   ]
  },
  {
   "cell_type": "code",
   "execution_count": 5,
   "metadata": {
    "colab": {
     "base_uri": "https://localhost:8080/"
    },
    "id": "fCkEluTN0XhC",
    "outputId": "40ec45cb-b12e-49d1-9066-410f01c9a962"
   },
   "outputs": [
    {
     "name": "stdout",
     "output_type": "stream",
     "text": [
      "../data/raw/BERLIN\n",
      "Normalising by: Active\n"
     ]
    }
   ],
   "source": [
    "# Parameters\n",
    "params = {'batch_size': 1,\n",
    "          'shuffle': False,\n",
    "          'num_workers': 0}\n",
    "#training_set=CityGraphDataset('BERLIN', np.array([5, 10, 15, 30, 45, 60]),mode='validation',overlap=False)\n",
    "training_set=CityGraphDataset('../data/raw', '../data/processed', 'BERLIN', np.array([5, 10, 15, 30, 45, 60]),mode='validation',overlap=False, normalise='Active', full_val=True)\n",
    "training_generator = DataLoader(training_set, **params)"
   ]
  },
  {
   "cell_type": "code",
   "execution_count": 6,
   "metadata": {
    "id": "77r3_Q7y0ii_"
   },
   "outputs": [],
   "source": [
    "ite=iter(training_generator)\n",
    "d =next(ite)"
   ]
  },
  {
   "cell_type": "code",
   "execution_count": null,
   "metadata": {
    "id": "LZcitauyCEf6"
   },
   "outputs": [],
   "source": []
  },
  {
   "cell_type": "code",
   "execution_count": 8,
   "metadata": {
    "id": "Bp1Mq6tpwXe_"
   },
   "outputs": [],
   "source": [
    "from src.models_graph_ensnet import Graph_ensnet"
   ]
  },
  {
   "cell_type": "code",
   "execution_count": 9,
   "metadata": {
    "id": "vlXFBAH5OKqm"
   },
   "outputs": [],
   "source": [
    "import torch\n",
    "from torch import nn\n",
    "import pytorch_lightning as pl\n",
    "from pytorch_lightning.loggers import TensorBoardLogger\n",
    "#from pytorch_lightning.callbacks import LearningRateLogger\n",
    "from torch.nn import functional as F\n",
    "from torch_geometric.nn import GCNConv, NNConv, Set2Set, EdgeConv, GatedGraphConv, GATConv, PNAConv, SAGEConv, SGConv, PointConv, ChebConv\n",
    "from torch_geometric.nn import GraphUNet, global_mean_pool, InstanceNorm, LayerNorm\n",
    "from torch.nn import Sequential, Linear, ReLU, GRU, Tanh, Sigmoid, LeakyReLU, ELU\n",
    "from torch_geometric.utils import degree\n",
    "import os\n",
    "\n",
    "class LightningGCN(pl.LightningModule):\n",
    "\n",
    "  def __init__(self, base_dir, city, forward_mins, learning_rate, overlap):\n",
    "    super(LightningGCN, self).__init__()\n",
    "    self.learning_rate = learning_rate\n",
    "    self.loss_fn = nn.MSELoss()\n",
    "\n",
    "    self.batch_size = 2\n",
    "    self.pca_static = False\n",
    "    #self.normalise = None\n",
    "    self.normalise = 'Active'\n",
    "    #self.normalise = 'noZeros'\n",
    "    #self.normalise = 'lmdas'\n",
    "    \n",
    "    self.full_val = True\n",
    "\n",
    "    self.train_data = CityGraphDataset('../data/raw',base_dir, city, forward_mins, overlap=overlap, normalise=self.normalise, pca_static=self.pca_static)\n",
    "    self.val_data = CityGraphDataset('../data/raw', base_dir, city, forward_mins, mode='validation', overlap=overlap, normalise=self.normalise, full_val=self.full_val, pca_static=self.pca_static)\n",
    "\n",
    "    self.net=Graph_ensnet(self.train_data.num_node_features,self.train_data[0].y.shape[-1], nh=100, K=4, K_mix=2, depth=4)\n",
    "\n",
    "  def forward(self, data):\n",
    "      x, edge_index, edge_attr = data.x, data.edge_index, data.edge_attr\n",
    "      x=self.net(data)\n",
    "      return x\n",
    "\n",
    "  def training_step(self, train_batch, batch_idx):\n",
    "      out = self.forward(train_batch)\n",
    "      loss = self.loss_fn(out, train_batch.y)\n",
    "      logs={\"train_loss\": loss}\n",
    "      return {\"loss\": loss,\"log\": logs, \"progress_bar\": logs}\n",
    "\n",
    "  def validation_step(self, val_batch, batch_idx):\n",
    "      if self.full_val:\n",
    "        val_graph, y_label_image, zeros_image, day, timestamp = val_batch\n",
    "        out = self.forward(val_graph)\n",
    "        out = self.val_data.convert_graph_minibatch_y_to_image(out, zeros_image) \n",
    "        out = out.round()\n",
    "        out = torch.clamp(out, min=0, max=255)\n",
    "        out = out[:,self.val_data.forward_steps-1, :,:, :]\n",
    "        y_label_image = y_label_image[:,self.val_data.forward_steps-1, :,:, :]\n",
    "        loss = self.loss_fn(out, y_label_image)\n",
    "        #self.val_store.append([day.cpu.numpy(), timestamp.cpu.numpy(), loss.cpu.numpy()])\n",
    "      else:\n",
    "        out = self.forward(val_batch)\n",
    "        out = out.round()\n",
    "        out = torch.clamp(out, min=0, max=255)\n",
    "        loss = self.loss_fn(out, val_batch.y)\n",
    "      # logging\n",
    "      logs={\"val_loss\": loss}\n",
    "      return {\"val_loss\": loss,\"log\": logs}\n",
    "\n",
    "  def test_step(self, val_batch, batch_idx):\n",
    "      if self.full_val:\n",
    "        val_graph, y_label_image, zeros_image, day, timestamp = val_batch\n",
    "        out = self.forward(val_graph)\n",
    "        out = self.val_data.convert_graph_minibatch_y_to_image(out, zeros_image) \n",
    "        out = out.round()\n",
    "        out = torch.clamp(out, min=0, max=255)\n",
    "        out = out[:,self.val_data.forward_steps-1, :,:, :]\n",
    "        y_label_image = y_label_image[:,self.val_data.forward_steps-1, :,:, :]\n",
    "        loss = self.loss_fn(out, y_label_image)\n",
    "        self.val_store.append([day.cpu().numpy()[0].astype(float), timestamp.cpu().numpy()[0].astype(float), loss.cpu().numpy()])\n",
    "      else:\n",
    "        out = self.forward(val_batch)\n",
    "        out = out.round()\n",
    "        out = torch.clamp(out, min=0, max=255)\n",
    "        loss = self.loss_fn(out, val_batch.y)\n",
    "      # logging\n",
    "      logs={\"test_loss\": loss}\n",
    "      return {\"test_loss\": loss,\"log\": logs}\n",
    "\n",
    "  def training_epoch_end(self, outputs):\n",
    "      avg_loss = torch.stack([x['loss'] for x in outputs]).mean()\n",
    "      print(f'Average Training Loss: {avg_loss}')\n",
    "      # creating log dictionary\n",
    "      tensorboard_logs = {'avg_train_loss': avg_loss}\n",
    "      return {'avg_train_loss': avg_loss,'log': tensorboard_logs}\n",
    "\n",
    "  def validation_epoch_end(self, outputs):\n",
    "      avg_loss = torch.stack([x['val_loss'] for x in outputs]).mean()\n",
    "      print(f'Average Val Loss: {avg_loss}')\n",
    "      # creating log dictionary\n",
    "      tensorboard_logs = {'avg_val_loss': avg_loss}\n",
    "      return {'avg_val_loss': avg_loss,'log': tensorboard_logs}\n",
    "\n",
    "  def test_epoch_end(self, outputs):\n",
    "      avg_loss = torch.stack([x['test_loss'] for x in outputs]).mean()\n",
    "      print(f'Average Test Loss: {avg_loss}')\n",
    "      # creating log dictionary\n",
    "      tensorboard_logs = {'avg_test_loss': avg_loss}\n",
    "      return {'avg_test_loss': avg_loss,'log': tensorboard_logs}\n",
    "\n",
    "  def train_dataloader(self):\n",
    "    return DataLoader(self.train_data, shuffle=True, batch_size=self.batch_size, num_workers=8)\n",
    "\n",
    "  def val_dataloader(self):\n",
    "    return DataLoader(self.val_data, batch_size=self.batch_size, num_workers=2)\n",
    "\n",
    "  def test_dataloader(self):\n",
    "    return DataLoader(self.val_data, batch_size=1, num_workers=2)\n",
    "\n",
    "  def configure_optimizers(self):\n",
    "    optimizer = torch.optim.Adam(self.parameters(), lr=self.learning_rate, weight_decay=0.0001)\n",
    "    #optimizer = torch.optim.Adam(self.parameters(), lr=self.learning_rate)\n",
    "    #optimizer = torch.optim.SGD(self.parameters(), lr=self.learning_rate)\n",
    "    #step_size = 5\n",
    "    #clr = self.cyclical_lr(step_size, min_lr=self.learning_rate/4, max_lr=self.learning_rate)\n",
    "    #scheduler = torch.optim.lr_scheduler.LambdaLR(optimizer, [clr])\n",
    "    #scheduler = torch.optim.lr_scheduler.CosineAnnealingLR(optimizer,5*self.train_data.len)\n",
    "    scheduler = torch.optim.lr_scheduler.CosineAnnealingWarmRestarts(optimizer,4000, 1)\n",
    "    #scheduler = torch.optim.lr_scheduler.StepLR(optimizer, step_size=5, gamma=0.1)\n",
    "    schedulers = [\n",
    "        {'scheduler': scheduler,\n",
    "         'monitor': 'val_recall', # Default: val_loss\n",
    "         'interval': 'step',\n",
    "         'frequency': 1},]\n",
    "\n",
    "    return [optimizer], schedulers\n",
    "    #return optimizer\n",
    "\n",
    "  def cyclical_lr(self, stepsize, min_lr=3e-4, max_lr=3e-3):\n",
    "\n",
    "    # Scaler: we can adapt this if we do not want the triangular CLR\n",
    "    scaler = lambda x: 1.\n",
    "\n",
    "    # Lambda function to calculate the LR\n",
    "    lr_lambda = lambda it: min_lr + (max_lr - min_lr) * relative(it, stepsize)\n",
    "\n",
    "    # Additional function to see where on the cycle we are\n",
    "    def relative(it, stepsize):\n",
    "        cycle = math.floor(1 + it / (2 * stepsize))\n",
    "        x = abs(it / stepsize - 2 * cycle + 1)\n",
    "        return max(0, (1 - x)) * scaler(cycle)\n",
    "\n",
    "    return lr_lambda"
   ]
  },
  {
   "cell_type": "code",
   "execution_count": 10,
   "metadata": {
    "colab": {
     "base_uri": "https://localhost:8080/"
    },
    "id": "I-0PTtmHdNDa",
    "outputId": "abd5727d-b668-4a3f-a0f9-62d043064dd4"
   },
   "outputs": [
    {
     "name": "stdout",
     "output_type": "stream",
     "text": [
      "../data/raw/BERLIN\n",
      "Normalising by: Active\n",
      "../data/raw/BERLIN\n",
      "Normalising by: Active\n"
     ]
    }
   ],
   "source": [
    "# train\n",
    "overlap=False\n",
    "base_dir = '../data/processed'\n",
    "city = 'BERLIN'\n",
    "model = LightningGCN(base_dir, city, np.array([5, 10, 15, 30, 45, 60]), 1e-2, overlap)"
   ]
  },
  {
   "cell_type": "code",
   "execution_count": null,
   "metadata": {
    "id": "8gDH7moD2aaX"
   },
   "outputs": [],
   "source": [
    "#checkpoint = torch.load('/content/drive/My Drive/t4c/lightning_logs/version_22/checkpoints/epoch=6.ckpt', map_location=lambda storage, loc: storage)\n",
    "#model.load_state_dict(checkpoint['state_dict'])"
   ]
  },
  {
   "cell_type": "code",
   "execution_count": null,
   "metadata": {
    "id": "OeVeXnwlbQjR"
   },
   "outputs": [],
   "source": [
    "# resume from a specific checkpoint\n",
    "#trainer = pl.Trainer(max_epochs=64, gpus=1,default_root_dir='/content/drive/My Drive/t4c/', resume_from_checkpoint='/content/drive/My Drive/t4c/lightning_logs/version_65/checkpoints/epoch=9.ckpt')"
   ]
  },
  {
   "cell_type": "code",
   "execution_count": 11,
   "metadata": {
    "colab": {
     "base_uri": "https://localhost:8080/"
    },
    "id": "cLFTa8XGf6hR",
    "outputId": "1d178168-5df0-4d7e-f11a-998f83225b1b"
   },
   "outputs": [
    {
     "name": "stderr",
     "output_type": "stream",
     "text": [
      "GPU available: False, used: False\n",
      "TPU available: False, using: 0 TPU cores\n"
     ]
    }
   ],
   "source": [
    "#lr_logger = LearningRateLogger(logging_interval='step')\n",
    "#trainer = pl.Trainer(max_epochs=10, gpus=1,limit_train_batches=0.05, default_root_dir='/content/drive/My Drive/t4c/')\n",
    "#trainer = pl.Trainer(max_epochs=80, gpus=1, default_root_dir='/content/drive/My Drive/t4c/')\n",
    "trainer = pl.Trainer(max_epochs=20)\n",
    "#trainer = pl.Trainer(max_epochs=20, gpus=1, precision=16, profiler=True, auto_lr_find=True)\n",
    "#trainer = pl.Trainer(max_epochs=2, gpus=1, profiler=True)"
   ]
  },
  {
   "cell_type": "code",
   "execution_count": null,
   "metadata": {
    "id": "EEmkNpMI7tId"
   },
   "outputs": [],
   "source": [
    "#lr_finder = trainer.tuner.lr_find(model, min_lr=1e-03)\n",
    "# Plot with\n",
    "#fig = lr_finder.plot(suggest=True)\n",
    "#fig.show()"
   ]
  },
  {
   "cell_type": "code",
   "execution_count": 13,
   "metadata": {
    "id": "qYhA07bzfw9f"
   },
   "outputs": [],
   "source": [
    "trainer.fit(model)"
   ]
  },
  {
   "cell_type": "code",
   "execution_count": null,
   "metadata": {
    "colab": {
     "base_uri": "https://localhost:8080/",
     "height": 66,
     "referenced_widgets": [
      "97e16a18e1df4354a84c2c617b45d51b",
      "d515e08dd47b49e88e0ce0618e49dd91",
      "195d94cbd0cf4936acccf91b792aae4d",
      "93f7f6ab70274992b5c525b32967af2f",
      "be5d65a7cee149cfbd2b7a4055ed0080",
      "225e26620bd04800b96b9b3418102036",
      "a1c618b8305a4131a1fd0e94820f44a1",
      "8b95f432805848cbb3e7f020c3171c1f"
     ]
    },
    "id": "sH6-4awYemex",
    "outputId": "b4db18ab-0172-4273-fe68-b3309fca726b"
   },
   "outputs": [],
   "source": [
    "create_submission(None, city, '/content/drive/My Drive/t4c/submission', model.val_data, model)"
   ]
  }
 ],
 "metadata": {
  "accelerator": "GPU",
  "colab": {
   "collapsed_sections": [],
   "name": "Copy of GNN_train.ipynb",
   "provenance": []
  },
  "kernelspec": {
   "display_name": "Python 3",
   "language": "python",
   "name": "python3"
  },
  "language_info": {
   "codemirror_mode": {
    "name": "ipython",
    "version": 3
   },
   "file_extension": ".py",
   "mimetype": "text/x-python",
   "name": "python",
   "nbconvert_exporter": "python",
   "pygments_lexer": "ipython3",
   "version": "3.8.3"
  },
  "widgets": {
   "application/vnd.jupyter.widget-state+json": {
    "195d94cbd0cf4936acccf91b792aae4d": {
     "model_module": "@jupyter-widgets/controls",
     "model_name": "FloatProgressModel",
     "state": {
      "_dom_classes": [],
      "_model_module": "@jupyter-widgets/controls",
      "_model_module_version": "1.5.0",
      "_model_name": "FloatProgressModel",
      "_view_count": null,
      "_view_module": "@jupyter-widgets/controls",
      "_view_module_version": "1.5.0",
      "_view_name": "ProgressView",
      "bar_style": "success",
      "description": "100%",
      "description_tooltip": null,
      "layout": "IPY_MODEL_225e26620bd04800b96b9b3418102036",
      "max": 163,
      "min": 0,
      "orientation": "horizontal",
      "style": "IPY_MODEL_be5d65a7cee149cfbd2b7a4055ed0080",
      "value": 163
     }
    },
    "225e26620bd04800b96b9b3418102036": {
     "model_module": "@jupyter-widgets/base",
     "model_name": "LayoutModel",
     "state": {
      "_model_module": "@jupyter-widgets/base",
      "_model_module_version": "1.2.0",
      "_model_name": "LayoutModel",
      "_view_count": null,
      "_view_module": "@jupyter-widgets/base",
      "_view_module_version": "1.2.0",
      "_view_name": "LayoutView",
      "align_content": null,
      "align_items": null,
      "align_self": null,
      "border": null,
      "bottom": null,
      "display": null,
      "flex": null,
      "flex_flow": null,
      "grid_area": null,
      "grid_auto_columns": null,
      "grid_auto_flow": null,
      "grid_auto_rows": null,
      "grid_column": null,
      "grid_gap": null,
      "grid_row": null,
      "grid_template_areas": null,
      "grid_template_columns": null,
      "grid_template_rows": null,
      "height": null,
      "justify_content": null,
      "justify_items": null,
      "left": null,
      "margin": null,
      "max_height": null,
      "max_width": null,
      "min_height": null,
      "min_width": null,
      "object_fit": null,
      "object_position": null,
      "order": null,
      "overflow": null,
      "overflow_x": null,
      "overflow_y": null,
      "padding": null,
      "right": null,
      "top": null,
      "visibility": null,
      "width": null
     }
    },
    "8b95f432805848cbb3e7f020c3171c1f": {
     "model_module": "@jupyter-widgets/base",
     "model_name": "LayoutModel",
     "state": {
      "_model_module": "@jupyter-widgets/base",
      "_model_module_version": "1.2.0",
      "_model_name": "LayoutModel",
      "_view_count": null,
      "_view_module": "@jupyter-widgets/base",
      "_view_module_version": "1.2.0",
      "_view_name": "LayoutView",
      "align_content": null,
      "align_items": null,
      "align_self": null,
      "border": null,
      "bottom": null,
      "display": null,
      "flex": null,
      "flex_flow": null,
      "grid_area": null,
      "grid_auto_columns": null,
      "grid_auto_flow": null,
      "grid_auto_rows": null,
      "grid_column": null,
      "grid_gap": null,
      "grid_row": null,
      "grid_template_areas": null,
      "grid_template_columns": null,
      "grid_template_rows": null,
      "height": null,
      "justify_content": null,
      "justify_items": null,
      "left": null,
      "margin": null,
      "max_height": null,
      "max_width": null,
      "min_height": null,
      "min_width": null,
      "object_fit": null,
      "object_position": null,
      "order": null,
      "overflow": null,
      "overflow_x": null,
      "overflow_y": null,
      "padding": null,
      "right": null,
      "top": null,
      "visibility": null,
      "width": null
     }
    },
    "93f7f6ab70274992b5c525b32967af2f": {
     "model_module": "@jupyter-widgets/controls",
     "model_name": "HTMLModel",
     "state": {
      "_dom_classes": [],
      "_model_module": "@jupyter-widgets/controls",
      "_model_module_version": "1.5.0",
      "_model_name": "HTMLModel",
      "_view_count": null,
      "_view_module": "@jupyter-widgets/controls",
      "_view_module_version": "1.5.0",
      "_view_name": "HTMLView",
      "description": "",
      "description_tooltip": null,
      "layout": "IPY_MODEL_8b95f432805848cbb3e7f020c3171c1f",
      "placeholder": "​",
      "style": "IPY_MODEL_a1c618b8305a4131a1fd0e94820f44a1",
      "value": " 163/163 [06:13&lt;00:00,  2.29s/it]"
     }
    },
    "97e16a18e1df4354a84c2c617b45d51b": {
     "model_module": "@jupyter-widgets/controls",
     "model_name": "HBoxModel",
     "state": {
      "_dom_classes": [],
      "_model_module": "@jupyter-widgets/controls",
      "_model_module_version": "1.5.0",
      "_model_name": "HBoxModel",
      "_view_count": null,
      "_view_module": "@jupyter-widgets/controls",
      "_view_module_version": "1.5.0",
      "_view_name": "HBoxView",
      "box_style": "",
      "children": [
       "IPY_MODEL_195d94cbd0cf4936acccf91b792aae4d",
       "IPY_MODEL_93f7f6ab70274992b5c525b32967af2f"
      ],
      "layout": "IPY_MODEL_d515e08dd47b49e88e0ce0618e49dd91"
     }
    },
    "a1c618b8305a4131a1fd0e94820f44a1": {
     "model_module": "@jupyter-widgets/controls",
     "model_name": "DescriptionStyleModel",
     "state": {
      "_model_module": "@jupyter-widgets/controls",
      "_model_module_version": "1.5.0",
      "_model_name": "DescriptionStyleModel",
      "_view_count": null,
      "_view_module": "@jupyter-widgets/base",
      "_view_module_version": "1.2.0",
      "_view_name": "StyleView",
      "description_width": ""
     }
    },
    "be5d65a7cee149cfbd2b7a4055ed0080": {
     "model_module": "@jupyter-widgets/controls",
     "model_name": "ProgressStyleModel",
     "state": {
      "_model_module": "@jupyter-widgets/controls",
      "_model_module_version": "1.5.0",
      "_model_name": "ProgressStyleModel",
      "_view_count": null,
      "_view_module": "@jupyter-widgets/base",
      "_view_module_version": "1.2.0",
      "_view_name": "StyleView",
      "bar_color": null,
      "description_width": "initial"
     }
    },
    "d515e08dd47b49e88e0ce0618e49dd91": {
     "model_module": "@jupyter-widgets/base",
     "model_name": "LayoutModel",
     "state": {
      "_model_module": "@jupyter-widgets/base",
      "_model_module_version": "1.2.0",
      "_model_name": "LayoutModel",
      "_view_count": null,
      "_view_module": "@jupyter-widgets/base",
      "_view_module_version": "1.2.0",
      "_view_name": "LayoutView",
      "align_content": null,
      "align_items": null,
      "align_self": null,
      "border": null,
      "bottom": null,
      "display": null,
      "flex": null,
      "flex_flow": null,
      "grid_area": null,
      "grid_auto_columns": null,
      "grid_auto_flow": null,
      "grid_auto_rows": null,
      "grid_column": null,
      "grid_gap": null,
      "grid_row": null,
      "grid_template_areas": null,
      "grid_template_columns": null,
      "grid_template_rows": null,
      "height": null,
      "justify_content": null,
      "justify_items": null,
      "left": null,
      "margin": null,
      "max_height": null,
      "max_width": null,
      "min_height": null,
      "min_width": null,
      "object_fit": null,
      "object_position": null,
      "order": null,
      "overflow": null,
      "overflow_x": null,
      "overflow_y": null,
      "padding": null,
      "right": null,
      "top": null,
      "visibility": null,
      "width": null
     }
    }
   }
  }
 },
 "nbformat": 4,
 "nbformat_minor": 1
}
